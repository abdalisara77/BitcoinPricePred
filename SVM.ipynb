{
 "cells": [
  {
   "cell_type": "code",
   "execution_count": 27,
   "metadata": {
    "id": "2jSX1pi9Upe8"
   },
   "outputs": [],
   "source": [
    "import torch \n",
    "import numpy as np\n",
    "import pandas as pd\n",
    "from sklearn.model_selection import train_test_split\n",
    "from sklearn.svm import LinearSVC\n",
    "import string\n",
    "import heapq\n",
    "import matplotlib.pyplot as plt\n",
    "from operator import itemgetter\n",
    "from sklearn.model_selection import train_test_split\n",
    "from sklearn.svm import LinearSVC\n",
    "import sklearn.svm as svm\n",
    "from sklearn.decomposition import PCA\n",
    "import re\n",
    "from sklearn.naive_bayes import ComplementNB\n",
    "from sklearn.metrics import classification_report"
   ]
  },
  {
   "cell_type": "markdown",
   "metadata": {},
   "source": [
    "## Preprocessing"
   ]
  },
  {
   "cell_type": "code",
   "execution_count": 77,
   "metadata": {
    "id": "plg-lgQJU1IQ"
   },
   "outputs": [],
   "source": [
    "df = pd.read_csv(\"final2.csv\")"
   ]
  },
  {
   "cell_type": "code",
   "execution_count": 78,
   "metadata": {
    "id": "FIr-Prv25nkj"
   },
   "outputs": [],
   "source": [
    "sw = [\"i\", \"me\", \"my\", \"myself\", \"we\", \"our\", \"ours\", \"ourselves\", \"you\", \"your\", \"yours\", \"yourself\", \"yourselves\", \"he\", \"him\", \"his\", \"himself\", \"she\", \"her\", \"hers\", \"herself\", \"it\", \"its\", \"itself\", \"they\", \"them\", \"their\", \"theirs\", \"themselves\", \"what\", \"which\", \"who\", \"whom\", \"this\", \"that\", \"these\", \"those\", \"am\", \"is\", \"are\", \"was\", \"were\", \"be\", \"been\", \"being\", \"have\", \"has\", \"had\", \"having\", \"do\", \"does\", \"did\", \"doing\", \"a\", \"an\", \"the\", \"and\", \"but\", \"if\", \"or\", \"because\", \"as\", \"until\", \"while\", \"of\", \"at\", \"by\", \"for\", \"with\", \"about\", \"against\", \"between\", \"into\", \"through\", \"during\", \"before\", \"after\", \"above\", \"below\", \"to\", \"from\", \"in\", \"out\", \"on\", \"off\", \"again\", \"further\", \"then\", \"once\", \"here\", \"there\", \"when\", \"where\", \"why\", \"how\", \"all\", \"any\", \"both\", \"each\", \"few\", \"more\", \"most\", \"other\", \"some\", \"such\", \"only\", \"own\", \"same\", \"so\", \"than\", \"too\", \"very\", \"s\", \"t\", \"can\", \"will\", \"just\", \"don\", \"should\", \"now\"]"
   ]
  },
  {
   "cell_type": "code",
   "execution_count": 79,
   "metadata": {
    "colab": {
     "base_uri": "https://localhost:8080/",
     "height": 204
    },
    "id": "_1xu_5QZuQX-",
    "outputId": "2fe28437-5281-487c-ebd4-dc43737f7ae3"
   },
   "outputs": [
    {
     "data": {
      "text/html": [
       "<div>\n",
       "<style scoped>\n",
       "    .dataframe tbody tr th:only-of-type {\n",
       "        vertical-align: middle;\n",
       "    }\n",
       "\n",
       "    .dataframe tbody tr th {\n",
       "        vertical-align: top;\n",
       "    }\n",
       "\n",
       "    .dataframe thead th {\n",
       "        text-align: right;\n",
       "    }\n",
       "</style>\n",
       "<table border=\"1\" class=\"dataframe\">\n",
       "  <thead>\n",
       "    <tr style=\"text-align: right;\">\n",
       "      <th></th>\n",
       "      <th>tweets_dict</th>\n",
       "      <th>label</th>\n",
       "    </tr>\n",
       "  </thead>\n",
       "  <tbody>\n",
       "    <tr>\n",
       "      <th>0</th>\n",
       "      <td>Blue Ridge Bank shares halted by NYSE after #b...</td>\n",
       "      <td>1</td>\n",
       "    </tr>\n",
       "    <tr>\n",
       "      <th>1</th>\n",
       "      <td>😎 Today, that's this #Thursday, we will do a \"...</td>\n",
       "      <td>1</td>\n",
       "    </tr>\n",
       "    <tr>\n",
       "      <th>2</th>\n",
       "      <td>Guys evening, I have read this article about B...</td>\n",
       "      <td>1</td>\n",
       "    </tr>\n",
       "    <tr>\n",
       "      <th>3</th>\n",
       "      <td>💹 Trade #Crypto on #Binance \\n\\n📌 Enjoy #Cashb...</td>\n",
       "      <td>1</td>\n",
       "    </tr>\n",
       "    <tr>\n",
       "      <th>4</th>\n",
       "      <td>🔄 Prices update in $EUR (1 hour):\\n\\n$BTC   - ...</td>\n",
       "      <td>1</td>\n",
       "    </tr>\n",
       "  </tbody>\n",
       "</table>\n",
       "</div>"
      ],
      "text/plain": [
       "                                         tweets_dict  label\n",
       "0  Blue Ridge Bank shares halted by NYSE after #b...      1\n",
       "1  😎 Today, that's this #Thursday, we will do a \"...      1\n",
       "2  Guys evening, I have read this article about B...      1\n",
       "3  💹 Trade #Crypto on #Binance \\n\\n📌 Enjoy #Cashb...      1\n",
       "4  🔄 Prices update in $EUR (1 hour):\\n\\n$BTC   - ...      1"
      ]
     },
     "execution_count": 79,
     "metadata": {},
     "output_type": "execute_result"
    }
   ],
   "source": [
    "df.head()"
   ]
  },
  {
   "cell_type": "markdown",
   "metadata": {},
   "source": [
    "Getting Rid of the emojis"
   ]
  },
  {
   "cell_type": "code",
   "execution_count": 80,
   "metadata": {
    "id": "E5WJDybZWKyQ"
   },
   "outputs": [],
   "source": [
    "def deEmojify(text):\n",
    "    emoj = re.compile(\"[\"\n",
    "        #u\"\\U0001F600-\\U0001F64F\"  # emoticons\n",
    "        #u\"\\U0001F300-\\U0001F5FF\"  # symbols & pictographs\n",
    "        u\"\\U0001F680-\\U0001F6FF\"  # transport & map symbols\n",
    "        u\"\\U0001F1E0-\\U0001F1FF\"  # flags (iOS)\n",
    "        u\"\\U00002500-\\U00002BEF\"  # chinese char\n",
    "        u\"\\U00002702-\\U000027B0\"\n",
    "        u\"\\U00002702-\\U000027B0\"\n",
    "        u\"\\U000024C2-\\U0001F251\"\n",
    "        u\"\\U0001f926-\\U0001f937\"\n",
    "        u\"\\U00010000-\\U0010ffff\"\n",
    "        u\"\\u2640-\\u2642\" \n",
    "        u\"\\u2600-\\u2B55\"\n",
    "        u\"\\u200d\"\n",
    "        u\"\\u23cf\"\n",
    "        u\"\\u23e9\"\n",
    "        u\"\\u231a\"\n",
    "        u\"\\ufe0f\"  # dingbats\n",
    "        u\"\\u3030\"\n",
    "                      \"]+\", re.UNICODE)\n",
    "    return re.sub(emoj, '', text)"
   ]
  },
  {
   "cell_type": "markdown",
   "metadata": {},
   "source": [
    "Getting rid of stopwords urls, punctuation, etc."
   ]
  },
  {
   "cell_type": "code",
   "execution_count": 82,
   "metadata": {
    "id": "lFSpyXY-U6uv"
   },
   "outputs": [],
   "source": [
    "counts = {}\n",
    "for i in range(len(df)): \n",
    "    text = deEmojify(df.iloc[i][\"tweets_dict\"]).translate(str.maketrans('', '', string.punctuation))\n",
    "    tokenized_tweet = [word.lower() for word in text.split() if (word not in sw and word[0:4] != \"http\" and word[-1:] != \"…\")]\n",
    "    for tok in tokenized_tweet:\n",
    "        if tok not in counts.keys():\n",
    "            counts[tok] = 1\n",
    "        else: \n",
    "            counts[tok] += 1"
   ]
  },
  {
   "cell_type": "code",
   "execution_count": 83,
   "metadata": {
    "colab": {
     "base_uri": "https://localhost:8080/"
    },
    "id": "idgaCMnfzZvK",
    "outputId": "d65773bf-f746-46fa-bd28-9bc1933cb4b6",
    "scrolled": true
   },
   "outputs": [
    {
     "data": {
      "text/plain": [
       "136200"
      ]
     },
     "execution_count": 83,
     "metadata": {},
     "output_type": "execute_result"
    }
   ],
   "source": [
    "len(counts)"
   ]
  },
  {
   "cell_type": "markdown",
   "metadata": {},
   "source": [
    "## One-hot Encoding"
   ]
  },
  {
   "cell_type": "code",
   "execution_count": 84,
   "metadata": {
    "id": "GgCcPy9MX5Jd"
   },
   "outputs": [],
   "source": [
    "num_features = int(len(counts)/2)\n",
    "topitems = heapq.nlargest(num_features, counts.items(), key=itemgetter(1))"
   ]
  },
  {
   "cell_type": "code",
   "execution_count": 85,
   "metadata": {
    "id": "evViaKaHcpwN"
   },
   "outputs": [],
   "source": [
    "features = {}\n",
    "i = 0\n",
    "for item in topitems: \n",
    "    features[item[0]] = i\n",
    "    i += 1"
   ]
  },
  {
   "cell_type": "code",
   "execution_count": 95,
   "metadata": {
    "id": "rsVf5mQPe4ax"
   },
   "outputs": [],
   "source": [
    "labels = df[\"label\"].values"
   ]
  },
  {
   "cell_type": "code",
   "execution_count": 88,
   "metadata": {
    "id": "3kA5t4M7YApd"
   },
   "outputs": [],
   "source": [
    "phi = np.zeros((len(df), len(features)))\n",
    "\n",
    "for i in range(len(df)): \n",
    "    text = deEmojify(df.iloc[i][\"tweets_dict\"]).translate(str.maketrans('', '', string.punctuation))\n",
    "    tokenized_tweet = [word.lower() for word in text.split(\" \") if (word not in sw and word[0:4] != \"http\" and word[-1:] != \"…\")]\n",
    "    for tok in tokenized_tweet:\n",
    "        if tok in features.keys():\n",
    "            phi[i][features[tok]] += 1"
   ]
  },
  {
   "cell_type": "markdown",
   "metadata": {},
   "source": [
    "## Naive Bayes Model"
   ]
  },
  {
   "cell_type": "code",
   "execution_count": 89,
   "metadata": {
    "id": "JwIblmO6LoXj"
   },
   "outputs": [],
   "source": [
    "X_train, X_test, y_train, y_test = train_test_split(phi, labels, test_size=0.2, random_state=1)\n",
    "\n",
    "X_train, X_val, y_train, y_val = train_test_split(X_train, y_train, test_size=0.25, random_state=1)"
   ]
  },
  {
   "cell_type": "code",
   "execution_count": null,
   "metadata": {
    "id": "87zYF7gzOMbE"
   },
   "outputs": [],
   "source": [
    "alphas = [0.0001,0.001,0.01, 0.1, 1, 10]\n",
    "train_acc=[]\n",
    "val_acc=[]\n",
    "for alpha in alphas: \n",
    "    clf = ComplementNB(alpha = alpha)\n",
    "    clf.fit(X_train, y_train)\n",
    "    train_acc.append(clf.score(X_train, y_train))\n",
    "    val_acc.append(clf.score(X_val, y_val))"
   ]
  },
  {
   "cell_type": "code",
   "execution_count": 28,
   "metadata": {},
   "outputs": [
    {
     "data": {
      "text/plain": [
       "[0.8169130922754111,\n",
       " 0.812765334504465,\n",
       " 0.8018347728492656,\n",
       " 0.7707997852925389,\n",
       " 0.7049236324598643,\n",
       " 0.6203581710828088]"
      ]
     },
     "execution_count": 28,
     "metadata": {},
     "output_type": "execute_result"
    }
   ],
   "source": [
    "train_acc"
   ]
  },
  {
   "cell_type": "code",
   "execution_count": 30,
   "metadata": {
    "id": "4Ut7FgHROZx0"
   },
   "outputs": [
    {
     "data": {
      "text/plain": [
       "[0.5895784543325527,\n",
       " 0.5920667447306791,\n",
       " 0.5949941451990632,\n",
       " 0.59557962529274,\n",
       " 0.5881147540983607,\n",
       " 0.5563524590163934]"
      ]
     },
     "execution_count": 30,
     "metadata": {},
     "output_type": "execute_result"
    }
   ],
   "source": [
    "val_acc"
   ]
  },
  {
   "cell_type": "code",
   "execution_count": 35,
   "metadata": {},
   "outputs": [
    {
     "data": {
      "image/png": "[encoded data removed]",
      "text/plain": [
       "<Figure size 432x288 with 1 Axes>"
      ]
     },
     "metadata": {
      "needs_background": "light"
     },
     "output_type": "display_data"
    }
   ],
   "source": [
    "plt.plot(alphas, train_acc, 'r', label = \"Train\") # plotting t, a separately \n",
    "plt.plot(alphas, val_acc, label = \"Val\") \n",
    "plt.xscale('log')\n",
    "plt.legend()\n",
    "plt.xlabel(\"Alpha\")\n",
    "plt.ylabel(\"Accuracy\")\n",
    "plt.savefig(\"nb.jpg\")"
   ]
  },
  {
   "cell_type": "code",
   "execution_count": 94,
   "metadata": {},
   "outputs": [],
   "source": [
    "clf = ComplementNB(alpha = 0.1)\n",
    "clf.fit(X_train, y_train)\n",
    "test_acc = clf.score(X_test, y_test)"
   ]
  },
  {
   "cell_type": "code",
   "execution_count": null,
   "metadata": {},
   "outputs": [],
   "source": [
    "print(classification_report(y_test, y_pred, digits=3))"
   ]
  },
  {
   "cell_type": "code",
   "execution_count": 91,
   "metadata": {},
   "outputs": [],
   "source": [
    "train_acc = clf.score(X_train, y_train)"
   ]
  },
  {
   "cell_type": "code",
   "execution_count": 92,
   "metadata": {},
   "outputs": [
    {
     "data": {
      "text/plain": [
       "0.4178864168618267"
      ]
     },
     "execution_count": 92,
     "metadata": {},
     "output_type": "execute_result"
    }
   ],
   "source": [
    "test_acc"
   ]
  },
  {
   "cell_type": "code",
   "execution_count": 93,
   "metadata": {},
   "outputs": [
    {
     "data": {
      "text/plain": [
       "0.6819889718440443"
      ]
     },
     "execution_count": 93,
     "metadata": {},
     "output_type": "execute_result"
    }
   ],
   "source": [
    "train_acc"
   ]
  },
  {
   "cell_type": "markdown",
   "metadata": {},
   "source": [
    "## PCA"
   ]
  },
  {
   "cell_type": "code",
   "execution_count": null,
   "metadata": {
    "colab": {
     "base_uri": "https://localhost:8080/",
     "height": 232
    },
    "id": "rRzwPwKwm1z5",
    "outputId": "d4391eed-d63b-455c-d079-f1694cd1ada9"
   },
   "outputs": [],
   "source": [
    "pca = PCA(n_components=len(phi/2))\n",
    "phi_reduced = pca.fit_transform(phi)\n",
    "X_train, X_test, y_train, y_test = train_test_split(phi_reduced, labels, test_size=0.2, random_state=45)\n",
    "clf = LinearSVC(random_state=0, tol=1e-5)\n",
    "clf.fit(X_train, y_train)\n",
    "train_acc.append(clf.score(X_train, y_train))\n",
    "test_acc.append(clf.score(X_test, y_test))\n"
   ]
  },
  {
   "cell_type": "code",
   "execution_count": null,
   "metadata": {
    "colab": {
     "base_uri": "https://localhost:8080/",
     "height": 34
    },
    "id": "XtFQAWMnCfKt",
    "outputId": "1aa585e1-eafa-4231-d9e1-ee4e6d677590"
   },
   "outputs": [
    {
     "data": {
      "text/plain": [
       "<Figure size 432x288 with 0 Axes>"
      ]
     },
     "metadata": {
      "tags": []
     },
     "output_type": "display_data"
    }
   ],
   "source": [
    "plt.savefig(\"3var_train.jpg\")"
   ]
  },
  {
   "cell_type": "code",
   "execution_count": null,
   "metadata": {
    "id": "IaSD8c6uhp5D"
   },
   "outputs": [],
   "source": [
    "pca = PCA(n_components=700)\n",
    "phi_reduced = pca.fit_transform(phi)"
   ]
  },
  {
   "cell_type": "code",
   "execution_count": null,
   "metadata": {
    "id": "sIItWklWfWJo"
   },
   "outputs": [],
   "source": [
    "X_train, X_test, y_train, y_test = train_test_split(phi_reduced, labels, test_size=0.2, random_state=45)"
   ]
  },
  {
   "cell_type": "markdown",
   "metadata": {},
   "source": [
    "## Support Vector Machine"
   ]
  },
  {
   "cell_type": "code",
   "execution_count": null,
   "metadata": {
    "colab": {
     "base_uri": "https://localhost:8080/"
    },
    "id": "m_5i50T_flX9",
    "outputId": "1768e015-938c-4506-bb59-408ac09792e8"
   },
   "outputs": [],
   "source": [
    "Cval = [0.0001, 0.001, 0.01, 0.05, 0.1, 1, 10]\n",
    "train_acc_svm=[]\n",
    "val_acc_svm=[]\n",
    "\n",
    "for c in Cval:  \n",
    "    print(c)\n",
    "    clf = LinearSVC(random_state=0, C=c, tol=1e-3, max_iter=10000)\n",
    "    clf.fit(X_train, y_train)\n",
    "    train_acc_svm.append(clf.score(X_train, y_train))\n",
    "    val_acc_svm.append(clf.score(X_val, y_val))\n"
   ]
  },
  {
   "cell_type": "code",
   "execution_count": 47,
   "metadata": {
    "colab": {
     "base_uri": "https://localhost:8080/"
    },
    "id": "nNgwMaA0fqFD",
    "outputId": "15dcac28-3304-4180-99d7-566730757f3d"
   },
   "outputs": [],
   "source": [
    "train_acc_svm = train_acc[-7:]\n",
    "val_acc_svm = val_acc[-7:]"
   ]
  },
  {
   "cell_type": "code",
   "execution_count": 52,
   "metadata": {},
   "outputs": [
    {
     "data": {
      "text/plain": [
       "[0.6098179866295809,\n",
       " 0.6695944956814522,\n",
       " 0.7897818767383985,\n",
       " 0.8851803054701606,\n",
       " 0.9167032645293515,\n",
       " 0.9668667349826771,\n",
       " 0.9815546772068511]"
      ]
     },
     "execution_count": 52,
     "metadata": {},
     "output_type": "execute_result"
    }
   ],
   "source": [
    "train_acc_svm"
   ]
  },
  {
   "cell_type": "code",
   "execution_count": 53,
   "metadata": {},
   "outputs": [
    {
     "data": {
      "text/plain": [
       "[0.6030444964871194,\n",
       " 0.6232435597189696,\n",
       " 0.6292447306791569,\n",
       " 0.6213407494145199,\n",
       " 0.6179742388758782,\n",
       " 0.6086065573770492,\n",
       " 0.5844555035128806]"
      ]
     },
     "execution_count": 53,
     "metadata": {},
     "output_type": "execute_result"
    }
   ],
   "source": [
    "val_acc_svm"
   ]
  },
  {
   "cell_type": "code",
   "execution_count": 55,
   "metadata": {},
   "outputs": [
    {
     "data": {
      "image/png": "[encoded data removed]",
      "text/plain": [
       "<Figure size 432x288 with 1 Axes>"
      ]
     },
     "metadata": {
      "needs_background": "light"
     },
     "output_type": "display_data"
    }
   ],
   "source": [
    "plt.plot(Cval, train_acc_svm, 'r', label = \"Train\") # plotting t, a separately \n",
    "plt.plot(Cval, val_acc_svm, label = \"Val\") \n",
    "plt.xscale('log')\n",
    "plt.legend()\n",
    "plt.xlabel(\"C\")\n",
    "plt.ylabel(\"Accuracy\")\n",
    "plt.savefig(\"svm.jpg\")"
   ]
  },
  {
   "cell_type": "code",
   "execution_count": 97,
   "metadata": {
    "colab": {
     "base_uri": "https://localhost:8080/"
    },
    "id": "iAQbr2l6f5UG",
    "outputId": "9a97278f-f7a4-48fe-d5f2-5a99c3d9619b"
   },
   "outputs": [
    {
     "data": {
      "text/plain": [
       "0.5329332552693209"
      ]
     },
     "execution_count": 97,
     "metadata": {},
     "output_type": "execute_result"
    }
   ],
   "source": [
    "clf = LinearSVC(random_state=0, C=0.01, tol=1e-3, max_iter=10000)\n",
    "clf.fit(X_train, y_train)\n",
    "clf.score(X_test,y_test)"
   ]
  },
  {
   "cell_type": "code",
   "execution_count": null,
   "metadata": {},
   "outputs": [],
   "source": []
  },
  {
   "cell_type": "code",
   "execution_count": 24,
   "metadata": {},
   "outputs": [
    {
     "data": {
      "text/plain": [
       "0.718977211730835"
      ]
     },
     "execution_count": 24,
     "metadata": {},
     "output_type": "execute_result"
    }
   ],
   "source": [
    "clf.score(X_train,y_train)"
   ]
  },
  {
   "cell_type": "code",
   "execution_count": 49,
   "metadata": {},
   "outputs": [
    {
     "data": {
      "text/plain": [
       "array([-1,  0,  1, ...,  1, -1,  1])"
      ]
     },
     "execution_count": 49,
     "metadata": {},
     "output_type": "execute_result"
    }
   ],
   "source": [
    "y_test"
   ]
  },
  {
   "cell_type": "code",
   "execution_count": 98,
   "metadata": {
    "id": "o_32KCef15q9"
   },
   "outputs": [],
   "source": [
    "y_pred = clf.predict(X_test)"
   ]
  },
  {
   "cell_type": "code",
   "execution_count": 99,
   "metadata": {},
   "outputs": [
    {
     "name": "stdout",
     "output_type": "stream",
     "text": [
      "              precision    recall  f1-score   support\n",
      "\n",
      "          -1      0.557     0.506     0.530      2603\n",
      "           0      0.412     0.092     0.150      1332\n",
      "           1      0.528     0.760     0.623      2897\n",
      "\n",
      "    accuracy                          0.533      6832\n",
      "   macro avg      0.499     0.453     0.434      6832\n",
      "weighted avg      0.516     0.533     0.495      6832\n",
      "\n"
     ]
    }
   ],
   "source": [
    "print(classification_report(y_test, y_pred, digits=3))"
   ]
  }
 ],
 "metadata": {
  "colab": {
   "name": "PCA SVM.ipynb",
   "provenance": []
  },
  "kernelspec": {
   "display_name": "Python 3",
   "language": "python",
   "name": "python3"
  },
  "language_info": {
   "codemirror_mode": {
    "name": "ipython",
    "version": 3
   },
   "file_extension": ".py",
   "mimetype": "text/x-python",
   "name": "python",
   "nbconvert_exporter": "python",
   "pygments_lexer": "ipython3",
   "version": "3.7.6"
  }
 },
 "nbformat": 4,
 "nbformat_minor": 1
}
